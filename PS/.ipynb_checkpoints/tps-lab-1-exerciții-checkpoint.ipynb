{
 "cells": [
  {
   "cell_type": "markdown",
   "metadata": {
    "id": "8c1GiSexXqAJ"
   },
   "source": [
    "# Laboratorul 1\n",
    "\n",
    "Rezolvați exercițiile de mai jos în celulele care v-au fost puse la dispoziție. La final, rulați tot notebook-ul și asigurați-vă că nu aveți erori. Salvați fișierul și încărcați-l în assignment-ul de Teams corespunzător grupei voastre."
   ]
  },
  {
   "cell_type": "markdown",
   "metadata": {
    "id": "GYYX1ZVyDEYo"
   },
   "source": [
    "## Exercițiul 1\n",
    "\n",
    "Calculați „de mână” următorul produs matrice-vector (scrieți, pe cât posibil, și calculele intermediare):\n",
    "\n",
    "$$\n",
    "\\begin{align*}\n",
    "    A = \\begin{pmatrix}\n",
    "        1 & 0 & 3 \\\\\n",
    "        2 & -1 & 5 \\\\\n",
    "        0 & 7 & 0\n",
    "    \\end{pmatrix}\n",
    "    &\\qquad\n",
    "    v = \\begin{pmatrix}\n",
    "        -2 \\\\\n",
    "        0 \\\\\n",
    "        4\n",
    "    \\end{pmatrix} \\\\[1em]\n",
    "    Av &= ?\n",
    "\\end{align*}\n",
    "$$"
   ]
  },
  {
   "cell_type": "markdown",
   "metadata": {},
   "source": [
    "$$\n",
    "\\begin{align*}\n",
    "    Av =\n",
    "    \\begin{pmatrix}\n",
    "        1 & 0 & 3 \\\\\n",
    "        2 & -1 & 5 \\\\\n",
    "        0 & 7 & 0\n",
    "    \\end{pmatrix}\n",
    "    \\begin{pmatrix}\n",
    "        -2 \\\\\n",
    "        0 \\\\\n",
    "        4\n",
    "    \\end{pmatrix}\n",
    "    = \n",
    "    \\begin{pmatrix}\n",
    "        1 * (-2) + 0 * 0 + 3 * 4 \\\\\n",
    "        2 * (-2) + (-1) * 0 + 5 * 4 \\\\\n",
    "        0 * (-2) + 7 * 0 + 0 * 4\n",
    "    \\end{pmatrix}\n",
    "    = \n",
    "    \\begin{pmatrix}\n",
    "        -2 + 0 + 12 \\\\\n",
    "        -4 + 0 + 20 \\\\\n",
    "        0 + 0 + 0\n",
    "    \\end{pmatrix}\n",
    "    = \n",
    "    \\begin{pmatrix}\n",
    "        10 \\\\\n",
    "        16 \\\\\n",
    "        0\n",
    "    \\end{pmatrix}\n",
    "\\end{align*}\n",
    "$$"
   ]
  },
  {
   "cell_type": "code",
   "execution_count": 1,
   "metadata": {
    "id": "Yz_qf47EDS9N"
   },
   "outputs": [
    {
     "name": "stdout",
     "output_type": "stream",
     "text": [
      "[10 16  0]\n"
     ]
    }
   ],
   "source": [
    "import numpy as np\n",
    "\n",
    "A = np.array([[1, 0, 3], [2, -1, 5], [0, 7, 0]])\n",
    "v = np.array([-2, 0, 4])\n",
    "Av = np.dot(A, v)\n",
    "\n",
    "print(Av)"
   ]
  },
  {
   "cell_type": "markdown",
   "metadata": {
    "id": "fdPI4QPODVy-"
   },
   "source": [
    "## Exercițiul 2\n",
    "\n",
    "Calculați „de mână” valoarea următoarei integrale:\n",
    "\n",
    "$$\n",
    "    \\int_{-1}^{+1} e^{x} \\, \\mathrm{d} x\n",
    "$$\n",
    "(nu este nevoie să scrieți o valoare numerică aproximativă, răspunsul poate să-l conțină pe $e$)"
   ]
  },
  {
   "cell_type": "markdown",
   "metadata": {},
   "source": [
    "$$\n",
    "    \\int_{-1}^{+1} e^{x} \\, \\mathrm{d} x = e^{x} |_{-1}^{+1} = e^1 - e^{-1} = e - \\frac{1}{e} \\approx 2.35\n",
    "$$"
   ]
  },
  {
   "cell_type": "code",
   "execution_count": 2,
   "metadata": {
    "id": "iyKcE2zXDm5t"
   },
   "outputs": [
    {
     "name": "stdout",
     "output_type": "stream",
     "text": [
      "(2.3504023872876028, 2.609470847500631e-14)\n"
     ]
    }
   ],
   "source": [
    "import numpy as np\n",
    "from scipy.integrate import quad\n",
    "\n",
    "def f(x):\n",
    "    return np.exp(x)\n",
    "\n",
    "I = quad(f, -1, 1)\n",
    "\n",
    "print(I)"
   ]
  },
  {
   "cell_type": "markdown",
   "metadata": {
    "id": "BcIqAwOfDqGR"
   },
   "source": [
    "## Exercițiul 3\n",
    "\n",
    "Calculați „de mână”, arătând pașii intermediari, valoarea următoarei integrale:\n",
    "$$\n",
    "    \\int_{0}^{1} e^{i \\pi x} \\mathrm{d} x\n",
    "$$\n",
    "Sfat: puteți să calculați o integrală complexă “spărgând-o” în\n",
    "integrala calculată pentru partea reală, respectiv pentru partea imaginară."
   ]
  },
  {
   "cell_type": "markdown",
   "metadata": {
    "id": "BcIqAwOfDqGR"
   },
   "source": [
    "$$\n",
    "    \\int_{0}^{1} e^{i \\pi x} \\mathrm{d} x = \\frac{1}{i \\pi}e^{i \\pi x} |_{0}^{1} = \\frac{-i}{\\pi}(e^{i \\pi} - e^0) = \\frac{-i}{\\pi}(-1 - 1) = \\frac{2}{\\pi}i \\approx 0.6366i\n",
    "$$"
   ]
  },
  {
   "cell_type": "code",
   "execution_count": 3,
   "metadata": {
    "id": "R3aV3ov0D1Kn"
   },
   "outputs": [
    {
     "name": "stdout",
     "output_type": "stream",
     "text": [
      "((1.170614333045522e-17+0.6366197723675814j), (7.035361316050255e-15+7.067899292141149e-15j))\n"
     ]
    }
   ],
   "source": [
    "import numpy as np\n",
    "from scipy.integrate import quad\n",
    "\n",
    "def f(x):\n",
    "    return np.exp(1j * np.pi * x)\n",
    "\n",
    "I = quad(f, 0, 1, complex_func = True)\n",
    "\n",
    "print(I)"
   ]
  },
  {
   "cell_type": "markdown",
   "metadata": {
    "id": "z-L7fvjhD1i5"
   },
   "source": [
    "## Exercițiul 4\n",
    "\n",
    "Definiți în Python (folosind biblioteca `numpy`) două variabile, care să stocheze matricea $A$, respectiv vectorul $v$, de la exercițiul 1. Puteți urma pașii din [acest tutorial](https://numpy.org/doc/stable/user/basics.creation.html). Calculați același produs matrice-vector, dar de data aceasta folosind [operatorul `@`](https://alysivji.github.io/python-matrix-multiplication-operator.html)\n",
    "din Python/`numpy`."
   ]
  },
  {
   "cell_type": "code",
   "execution_count": 4,
   "metadata": {
    "id": "Dj9sBIFFEJDJ"
   },
   "outputs": [
    {
     "name": "stdout",
     "output_type": "stream",
     "text": [
      "[10 16  0]\n"
     ]
    }
   ],
   "source": [
    "import numpy as np\n",
    "\n",
    "A = np.array([[1, 0, 3], [2, -1, 5], [0, 7, 0]])\n",
    "v = np.array([-2, 0, 4])\n",
    "Av = A @ v\n",
    "\n",
    "print(Av)"
   ]
  },
  {
   "cell_type": "markdown",
   "metadata": {
    "id": "q0YvHSsaEKJQ"
   },
   "source": [
    "## Exercițiul 5\n",
    "\n",
    "Calculați numeric valoarea integralei de la exercițiul 2, folosind [funcția `quad`](https://docs.scipy.org/doc/scipy/tutorial/integrate.html) din [modulul `integrate`](https://docs.scipy.org/doc/scipy/tutorial/integrate.html) al SciPy. Dacă nu\n",
    "ați mai lucrat în trecut cu funcții lambda în Python, tot ce\n",
    "aveți nevoie pentru a defini și transmite funcția de integrat\n",
    "la `integrate.quad` este expresia `lambda x: np.exp(x)` (presupunând că aveți importat modulul `numpy` cu alias-ul `np`)."
   ]
  },
  {
   "cell_type": "code",
   "execution_count": 5,
   "metadata": {
    "id": "fbtPm7WhEow9"
   },
   "outputs": [
    {
     "name": "stdout",
     "output_type": "stream",
     "text": [
      "(2.3504023872876028, 2.609470847500631e-14)\n"
     ]
    }
   ],
   "source": [
    "import numpy as np\n",
    "from scipy.integrate import quad\n",
    "\n",
    "I = quad(lambda x: np.exp(x), -1, 1)\n",
    "\n",
    "print(I)"
   ]
  },
  {
   "cell_type": "markdown",
   "metadata": {
    "id": "NRpcTU1eEoZx"
   },
   "source": [
    "## Exercițiul 6\n",
    "\n",
    "Calculați numeric valoarea integralei complexe de la exercițiul\n",
    "3, de data aceasta folosind o altă funcție de integrare numerică\n",
    "în afară de `quad` (e.g. puteți încerca `fixed_quad`). În\n",
    "acest caz, funcția de integrat ar veni `lambda x: np.exp(1j *\n",
    "np.pi * x)`."
   ]
  },
  {
   "cell_type": "code",
   "execution_count": 6,
   "metadata": {
    "id": "_EiOn_UtXlaj"
   },
   "outputs": [
    {
     "name": "stdout",
     "output_type": "stream",
     "text": [
      "(np.complex128(1.249000902703301e-16+0.6366198074722192j), None)\n"
     ]
    }
   ],
   "source": [
    "import numpy as np\n",
    "from scipy.integrate import fixed_quad\n",
    "\n",
    "I = fixed_quad(lambda x: np.exp(1j * np.pi * x), 0, 1)\n",
    "\n",
    "print(I)"
   ]
  },
  {
   "cell_type": "code",
   "execution_count": null,
   "metadata": {},
   "outputs": [],
   "source": []
  }
 ],
 "metadata": {
  "colab": {
   "authorship_tag": "ABX9TyMuN4F7l54draERQAqNAWKE",
   "provenance": []
  },
  "kernelspec": {
   "display_name": "Python 3 (ipykernel)",
   "language": "python",
   "name": "python3"
  },
  "language_info": {
   "codemirror_mode": {
    "name": "ipython",
    "version": 3
   },
   "file_extension": ".py",
   "mimetype": "text/x-python",
   "name": "python",
   "nbconvert_exporter": "python",
   "pygments_lexer": "ipython3",
   "version": "3.12.7"
  }
 },
 "nbformat": 4,
 "nbformat_minor": 4
}
