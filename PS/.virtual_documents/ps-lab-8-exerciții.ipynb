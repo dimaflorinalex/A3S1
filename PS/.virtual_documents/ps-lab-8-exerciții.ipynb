


import numpy as np
import matplotlib.pyplot as plt





Ts = 3600
fs = 1/Ts

print('Frecventa de esantionare: ', fs, 'Hz')





x = np.genfromtxt('ps-lab-8-traffic.csv', delimiter = ',')
N = len(x)

timp_s = N * Ts
timp_h = timp_s / 3600
timp_d = timp_h / 24
timp_y = timp_d / 365.25

print(f'Sunt {N} esantioane masurate cu perioada {Ts} s')
print(f'Intervalul de timp acoperit este de {timp_s} s = {timp_h} ore = {timp_d} zile = {timp_y} ani')





# Frecventa maxima prezenta in semnal o obtinem alegand maximul nr de masini inregistrat intr-o ora si inmultindu-l
# cu frecventa de esantionare (impartindu-l la 3600 s).
maxCarsCount = np.max(x)
print('Nr maxim de masini care a trecut intr-o ora este: ', maxCarsCount)
maxFreqSignal = maxCarsCount * fs
print('Frecventa maxima prezenta in semnal este: ', maxFreqSignal, 'Hz')

# De asemenea, conform Nyquist-Shannon: fs >= 2 * fmax, adica fmax <= fs / 2
print('Frecventa maxima conform Nyquist-Shannon: ', fs / 2, 'Hz')





X = np.fft.rfft(x)

X_abs = np.abs(X/N)
f_X = fs * np.linspace(0, N//2, N//2 + 1) / N

plt.figure(figsize=(10, 6))
plt.plot(f_X, X_abs)
plt.title('Modulul Transformatei Fourier')
plt.xlabel('Frecventa [Hz]')
plt.ylabel('Amplitudine')
plt.grid(True)
plt.show()





# Observam din grafic ca semnalul prezinta o componenta continua, deoarece in transformata Fourier a semnalului observam o
# valoare semnificativa pentru frecventa = 0 Hz

x_clean = x[~np.isnan(x)]
x_mean = np.mean(x_clean)
N = len(x_clean)
X = np.fft.rfft(x_clean)
X_abs = np.abs(X/N)

print(f'Componenta continua (la frecventa 0) a semnalului este: {X_abs[0]}')
print(f'Media semnalului: {x_mean}')

if X_abs[0] > 1e-2:
    print('Semnalul are o componenta continua semnificativa pe care trebuie sa o eliminam.')
    x_no_dc = x_clean - x_mean
else:
    print('Semnalul nu are o componenta continua semnificativa.')
    x_no_dc = x_clean

plt.figure(figsize = (10, 6))
plt.title('Semnalul cu componenta continua')
plt.xlabel('Timp [h]')
plt.ylabel('Amplitudine')
plt.grid(True)
plt.plot(x)
plt.show()

plt.figure(figsize = (10, 6))
plt.title('Semnalul fara componenta continua')
plt.xlabel('Timp [h]')
plt.ylabel('Amplitudine')
plt.grid(True)
plt.plot(x_no_dc)
plt.show()

X_no_dc = np.fft.rfft(x_no_dc)
X_abs_no_dc = np.abs(X_no_dc) / N





frequencies = np.linspace(0, N // 2, N)
X_abs[0] = 0
top_indexes = np.flip(np.argsort(X_abs)[-4:])# Indici pentru cele mai mari 4 valori
top_frequencies = frequencies[top_indexes]  # Frecvențele corespunzătoare celor mai mari 4 valori
top_amplitudes = X_abs[top_indexes]  # Valorile celor mai mari 4 amplitudini

print("Primele 4 frecvente principale, i.e. cele mai mari valori ale modulului transformatei si valorile corespunzatoare in amplitudine:")
for i in range(4):
    print(f"Frecventa {i+1}: {top_frequencies[i]} Hz - Amplitudine: {top_amplitudes[i]}")





sampleStart = 1350
sampleStop = sampleStart + 24 * 30
x_sample = x[sampleStart:sampleStop]

plt.figure(figsize = (10, 6))
plt.title('Semnalul delimitat')
plt.xlabel('Timp [h]')
plt.ylabel('Amplitudine')
plt.grid(True)
plt.plot(x_sample)
plt.show()






