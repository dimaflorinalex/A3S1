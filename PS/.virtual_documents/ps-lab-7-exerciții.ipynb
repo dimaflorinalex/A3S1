


import math
import numpy as np
import matplotlib.pyplot as plt





f_signal = 9
N = 100
fs = 40
t = np.arange(N) / fs

x_n = np.sin(2 * np.pi * f_signal * t)
y_n = x_n * np.exp(-2j * np.pi * t)

plt.figure(figsize=(14, 6))

plt.subplot(1, 2, 1)
plt.plot(t, x_n)
plt.xlabel('Timp [s]')
plt.ylabel('Amplitudine')
plt.title(f'Semnal sinusoidal cu frecventa {f_signal} Hz')
plt.grid(True)

plt.subplot(1, 2, 2)
plt.plot(y_n.real, y_n.imag)
plt.xlabel('Real')
plt.ylabel('Imaginar')
plt.title('Reprezentarea semnalului pe cercul unitate')
plt.axis('equal')
plt.grid(True)

plt.tight_layout()
plt.show()

freqs = [3, 6, 9, 12]

plt.figure(figsize = (14, 10))

for i, omega in enumerate(freqs):
    z_omega = x_n * np.exp(-2j * np.pi * omega * t)
    plt.subplot(2, 2, i + 1)
    plt.plot(z_omega.real, z_omega.imag)
    plt.xlabel('Real')
    plt.ylabel('Imaginar')
    plt.title(f'Reprezentare în planul complex pentru ω = {omega} Hz')
    plt.axis('equal')
    plt.grid(True)

plt.tight_layout()
plt.show()









import numpy as np
import matplotlib.pyplot as plt

# Parametri pentru semnalul compus
fs = 100       # Frecvența de esantionare 
N = 100        # Numar de esantioane
t = np.arange(N) / fs  # Timpul 

# Generarea semnalului compus din trei componente de frecventa distincte
f1, f2, f3 = 5, 15, 30  # Frecventele semnalelor 
x_n = np.sin(2 * np.pi * f1 * t) + 0.5 * np.sin(2 * np.pi * f2 * t) + 0.3 * np.sin(2 * np.pi * f3 * t)

#  Transformarea Fourier
def DFT_simple(x):
    N = len(x)
    k = np.arange(N)
    n = np.arange(N)
    exp_factor = np.exp(-2j * np.pi * k[:, None] * n / N)  # Matricea factorului exponential
    X = np.dot(exp_factor, x)  # Produsul matrice-vector pentru calculul DFT
    return X

# Calculul Transformatei Fourier
X_k_simple = DFT_simple(x_n)

# Conversia indicilor de frecventă la Hz
frequencies = np.arange(N) * fs / N

# Afișarea graficului modulului Transformatei Fourier
plt.figure(figsize=(10, 5))
plt.stem(frequencies, np.abs(X_k_simple), basefmt=" ")
plt.xlabel('Frecvența (Hz)')
plt.ylabel('Modulul Transformatei Fourier')
plt.title('Transformata Fourier  pentru semnalul compus')
plt.grid(True)
plt.show()
