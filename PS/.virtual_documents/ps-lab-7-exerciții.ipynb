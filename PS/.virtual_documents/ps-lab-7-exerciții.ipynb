


import math
import numpy as np
import matplotlib.pyplot as plt





f_signal = 9
N = 100
fs = 40
t = np.arange(N) / fs

x_n = np.sin(2 * np.pi * f_signal * t)
y_n = x_n * np.exp(-2j * np.pi * t)

plt.figure(figsize=(14, 6))

plt.subplot(1, 2, 1)
plt.plot(t, x_n)
plt.xlabel('Timp [s]')
plt.ylabel('Amplitudine')
plt.title(f'Semnal sinusoidal de frecventa {f_signal} Hz')
plt.grid(True)

plt.subplot(1, 2, 2)
plt.plot(y_n.real, y_n.imag)
plt.xlabel('Real')
plt.ylabel('Imaginar')
plt.title('Grafic semnalul cercul unitate')
plt.grid(True)

plt.show()

freqs = [3, 6, 9, 12]

plt.figure(figsize = (14, 10))

for i, omega in enumerate(freqs):
    z_omega = x_n * np.exp(-2j * np.pi * omega * t)
    plt.subplot(2, 2, i + 1)
    plt.plot(z_omega.real, z_omega.imag)
    plt.xlabel('Real')
    plt.ylabel('Imaginar')
    plt.title(f'Grafic plan complex ω = {omega} Hz')
    plt.axis('equal')
    plt.grid(True)

plt.show()








fs = 100
N = 100
t = np.arange(N) / fs

f1, f2, f3 = 6, 12, 24
x_n = np.sin(2 * np.pi * f1 * t) + 0.5 * np.sin(2 * np.pi * f2 * t) + 0.3 * np.sin(2 * np.pi * f3 * t)

def DFT_simple(x):
    N = len(x)
    k = np.arange(N)
    n = np.arange(N)
    exp_factor = np.exp(-2j * np.pi * k[:, None] * n / N)
    X = np.dot(exp_factor, x)
    return X

X_k_simple = DFT_simple(x_n)

frequencies = np.arange(N) * fs / N

plt.figure(figsize = (10, 5))
plt.stem(frequencies, np.abs(X_k_simple), basefmt = " ")
plt.xlabel('Frecventa [Hz]')
plt.ylabel('Modulul Transformata Fourier')
plt.title('Transformata Fourier semnalul compus')
plt.grid(True)
plt.show()
