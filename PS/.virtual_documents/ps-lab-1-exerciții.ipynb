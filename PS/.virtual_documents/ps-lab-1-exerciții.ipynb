








import numpy as np

A = np.array([[1, 0, 3], [2, -1, 5], [0, 7, 0]])
v = np.array([-2, 0, 4])
Av = np.dot(A, v)

print(Av)








import numpy as np
from scipy.integrate import quad

def f(x):
    return np.exp(x)

I = quad(f, -1, 1)

print(I)








import numpy as np
from scipy.integrate import quad

def f(x):
    return np.exp(1j * np.pi * x)

I = quad(f, 0, 1, complex_func = True)

print(I)





import numpy as np

A = np.array([[1, 0, 3], [2, -1, 5], [0, 7, 0]])
v = np.array([-2, 0, 4])
Av = A @ v

print(Av)





import numpy as np
from scipy.integrate import quad

I = quad(lambda x: np.exp(x), -1, 1)

print(I)





import numpy as np
from scipy.integrate import fixed_quad

I = fixed_quad(lambda x: np.exp(1j * np.pi * x), 0, 1)

print(I)



