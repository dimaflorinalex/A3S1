


import numpy as np
import matplotlib.pyplot as plt
import sounddevice as sd





time_of_view = 1     # s
frequency = 2        # Hz
amplitude = 1
phase = 0





sampling_rate = 12    # Hz
sampling_period = 1./sampling_rate  # s
n_samples = time_of_view/sampling_period





atime = np.linspace (0, time_of_view, int(10e5 + 1)) # s.
time = np.linspace (0, time_of_view, int(n_samples + 1))





def sine (amplitude, frequency, time, phase):
    return amplitude * np.sin (2 * np.pi * frequency * time + phase)





asignal = sine(amplitude, frequency, atime, phase)

plt.grid(True)
plt.plot (atime, asignal)





signal = sine(amplitude, frequency, time, phase)

plt.grid(True)
plt.stem (time, signal)





time_of_view = 2     # s
frequency = 440      # Hz
amplitude = 10000
phase = 0

sampling_rate = 44100
sampling_period = 1./sampling_rate  # s
n_samples = time_of_view/sampling_period
time = np.linspace (0, time_of_view, int(n_samples + 1))

tone = sine(amplitude, frequency, time, phase)





sd.default.samplerate = sampling_rate
wav_wave = np.array(tone, dtype=np.int16)
sd.play(wav_wave, blocking=True)
sd.stop()





import numpy as np
import matplotlib.pyplot as plt
import sounddevice as sd

# Ex. 1
# Genereaza ton
def generate_tone(frequency, duration, sample_rate = 44100, amplitude = 0.5):
    t = np.linspace(0, duration, int(sample_rate * duration), False)
    tone = amplitude * np.sin(2 * np.pi * frequency * t)
    return tone

# Compune o melodie
def generate_song(octave, score, sample_rate = 44100):
    song = np.concatenate([generate_tone(octave[note[0]], note[1], sample_rate) for note in score])
    return song

# Octava Do Major
do_major = {
    "Do1": 261.63,
    "Re": 293.66,
    "Mi": 329.63,
    "Fa": 349.23,
    "Sol": 392.00,
    "La": 440.00,
    "Si": 493.88,
    "Do2": 523.25
}

# Partitura Do, Re, Mi, Fa, Sol, La, Si, Do
score = [
    ["Do1", 0.5],
    ["Re", 0.5],
    ["Mi", 0.5],
    ["Fa", 0.5],
    ["Sol", 0.5],
    ["La", 0.5],
    ["Si", 0.5],
    ["Do2", 0.5]
]
song = generate_song(do_major, score)
sd.play(song, samplerate = 44100)
sd.wait()

# Ex. 2
# Partitura "Frère Jacques" (https://www.candomusic.ca/wp-content/uploads/2018/03/Frere-Jacques-pdf.pdf)
score = [
    ["Do1", 0.5], ["Re", 0.5], ["Mi", 0.5], ["Do1", 0.5], ["Do1", 0.5], ["Re", 0.5], ["Mi", 0.5], ["Do1", 0.5],
    ["Mi", 0.5], ["Fa", 0.5], ["Sol", 1], ["Mi", 0.5], ["Fa", 0.5], ["Sol", 1],
    ["Sol", 0.25], ["La", 0.25], ["Sol", 0.25], ["Fa", 0.25], ["Mi", 0.5], ["Do1", 0.5], ["Sol", 0.25], ["La", 0.25], ["Sol", 0.25], ["Fa", 0.25], ["Mi", 0.5], ["Do1", 0.5],
    ["Fa", 0.5], ["Do1", 0.5], ["Fa", 1], ["Fa", 0.5], ["Do1", 0.5], ["Fa", 1]
]
song = generate_song(do_major, score)
sd.play(song, samplerate = 44100)
sd.wait()

# Ex. 3
# Partitura "Papadia, papadia" (https://catalog.manualedigitaleart.ro/art-educatie-muzicala-6-2024/v1/index.html - Pagina 28)
score = [
    ["Sol", 0.25], ["Sol", 0.25], ["Sol", 0.25], ["Fa", 0.25], ["Mi", 0.25], ["Mi", 0.25], ["Mi", 0.25], ["Mi", 0.25], ["Sol", 0.25], ["Sol", 0.25], ["Sol", 0.25], ["Fa", 0.25], ["Mi", 0.25], ["Re", 0.25], ["Re", 0.25], ["Re", 0.25],
    ["Sol", 0.25], ["Sol", 0.25], ["Sol", 0.25], ["Fa", 0.25], ["Mi", 0.25], ["Mi", 0.25], ["Mi", 0.25], ["Mi", 0.25], ["Sol", 0.25], ["Sol", 0.25], ["Sol", 0.25], ["Fa", 0.25], ["Mi", 0.25], ["Re", 0.25], ["Re", 0.25], ["Re", 0.25],
    ["Sol", 0.25], ["Sol", 0.25], ["Sol", 0.25], ["Fa", 0.25], ["Mi", 0.25], ["Mi", 0.25], ["Mi", 0.25], ["Mi", 0.25], ["Sol", 0.25], ["Sol", 0.25], ["Sol", 0.25], ["Fa", 0.25], ["Mi", 0.25], ["Re", 0.25], ["Re", 0.25], ["Re", 0.25]
]
song = generate_song(do_major, score)
sd.play(song, samplerate = 44100)
sd.wait()
