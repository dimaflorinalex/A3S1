


import numpy as np
import matplotlib.pyplot as plt
import scipy.io
import sounddevice





A = 2
f = 100
phix = np.pi / 4
phiy = phix - np.pi / 2

x = lambda t : A * np.sin(2 * np.pi * f * t + phix)
y = lambda t : A * np.cos(2 * np.pi * f * t + phiy)

start = 0
fs = 0.11 * f
Ts = 1 / fs
stop = 3

t = np.arange(start, stop + Ts, Ts)

fig, axs = plt.subplots(2, figsize = (10, 8))

plt.subplots_adjust(hspace = 0.6)

axs[0].set_title('x(t)')
axs[0].set_xlabel('Timp (s)')
axs[0].set_ylabel('Amplitudine')
axs[0].grid(True)
axs[0].plot(t, x(t))

axs[1].set_title('y(t)')
axs[1].set_xlabel('Timp (s)')
axs[1].set_ylabel('Amplitudine')
axs[1].grid(True)
axs[1].plot(t, y(t))





A = 1
f = 300
phi0 = 0
phi1 = np.pi / 4
phi2 = np.pi / 2
phi3 = 3 * np.pi / 2

x0 = lambda t : A * np.sin(2 * np.pi * f * t + phi0)
x1 = lambda t : A * np.sin(2 * np.pi * f * t + phi1)
x2 = lambda t : A * np.sin(2 * np.pi * f * t + phi2)
x3 = lambda t : A * np.sin(2 * np.pi * f * t + phi3)

start = 0
fs = 0.11 * f
Ts = 1 / fs
stop = 0.22

t = np.arange(start, stop + Ts, Ts)

plt.plot(t, x0(t), 'r')
plt.plot(t, x1(t), 'g')
plt.plot(t, x2(t), 'b')
plt.plot(t, x3(t), 'm')

































