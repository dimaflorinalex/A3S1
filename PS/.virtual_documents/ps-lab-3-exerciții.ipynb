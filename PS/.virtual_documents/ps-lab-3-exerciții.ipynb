


import numpy as np
import matplotlib.pyplot as plt
import scipy.io
import sounddevice





A = 2
f = 100
phix = np.pi / 4
phiy = phix - np.pi / 2

x = lambda t : A * np.sin(2 * np.pi * f * t + phix)
y = lambda t : A * np.cos(2 * np.pi * f * t + phiy)

start = 0
fs = 100 * f
Ts = 1 / fs
stop = 0.1

t = np.arange(start, stop + Ts, Ts)

fig, axs = plt.subplots(2, figsize = (10, 8))

plt.subplots_adjust(hspace = 0.6)

axs[0].set_title('x(t)')
axs[0].set_xlabel('Timp [s]')
axs[0].set_ylabel('Amplitudine')
axs[0].grid(True)
axs[0].plot(t, x(t))

axs[1].set_title('y(t)')
axs[1].set_xlabel('Timp [s]')
axs[1].set_ylabel('Amplitudine')
axs[1].grid(True)
axs[1].plot(t, y(t))





A = 1
f = 300
phi0 = 0 * np.pi / 4
phi1 = 1 * np.pi / 4
phi2 = 2 * np.pi / 4
phi3 = 3 * np.pi / 4

x0 = lambda t : A * np.sin(2 * np.pi * f * t + phi0)
x1 = lambda t : A * np.sin(2 * np.pi * f * t + phi1)
x2 = lambda t : A * np.sin(2 * np.pi * f * t + phi2)
x3 = lambda t : A * np.sin(2 * np.pi * f * t + phi3)

start = 0
fs = 100 * f
Ts = 1 / fs
stop = 0.01

t = np.arange(start, stop + Ts, Ts)

plt.plot(t, x0(t), 'r', label = 'x0(t)')
plt.plot(t, x1(t), 'g', label = 'x1(t)')
plt.plot(t, x2(t), 'b', label = 'x2(t)')
plt.plot(t, x3(t), 'm', label = 'x3(t)')

plt.xlabel('Timp [s]')
plt.ylabel('Amplitudine')
plt.grid(True)

plt.legend()





f = 300

start = 0
fs = 100 * f
Ts = 1 / fs
stop = 0.01

t = np.arange(start, stop, Ts)

x = lambda t : np.sin(2 * np.pi * f * t)
y = lambda t : 2 * (f * t - np.floor(f * t + 0.5))
z = lambda t : x(t) + y(t)

fig, axs = plt.subplots(3, figsize = (10, 8))

plt.subplots_adjust(hspace = 0.6)

axs[0].set_title('x(t)')
axs[0].set_xlabel('Timp [s]')
axs[0].set_ylabel('Amplitudine')
axs[0].grid(True)
axs[0].plot(t, x(t))

axs[1].set_title('y(t)')
axs[1].set_xlabel('Timp [s]')
axs[1].set_ylabel('Amplitudine')
axs[1].grid(True)
axs[1].plot(t, y(t))

axs[2].set_title('z(t)')
axs[2].set_xlabel('Timp [s]')
axs[2].set_ylabel('Amplitudine')
axs[2].grid(True)
axs[2].plot(t, z(t))





start = 0
fs = 44100
Ts = 1 / fs
stop = 3

t = np.arange(start, stop + Ts, Ts)

f1 = 700
x1 = lambda x : np.sin(2 * np.pi * f1 * t)

f2 = 3500
x2 = lambda x : np.sin(2 * np.pi * f2 * t)

t = np.arange(start, stop + Ts, Ts)
x = lambda x : np.concatenate([x1(t), x2(t)])

rate = int(fs)
scipy.io.wavfile.write('ps-lab-3-ex4.wav', rate, x(t))

sounddevice.play(x(t), fs)
sounddevice.wait()








A = 1
f = 200
phi = 0

start = 0
fs = 500
Ts = 1 / fs
stop = 0.1

t = np.arange(start, stop + Ts, Ts)

x = lambda t : A * np.sin(2 * np.pi * f * t + phi)

t = np.arange(start, stop + Ts, Ts)
xt = x(t)

d = 4
offset = 0
td0 = t[offset::d]
xtd0 = xt[offset::d]

plt.plot(t, xt, 'b', label = 'x(t)')
plt.plot(td0, xtd0, 'r', label = 'xtd0(t)')

plt.xlabel('Timp [s]')
plt.ylabel('Amplitudine')
plt.grid(True)

plt.legend()

# Decimarea la 1/4 din frecventa initiala de esantionare este echivalenta cu esantionarea la fs / 4 => 500 Hz / 4 = 125 Hz
# Cu cat decimam mai puternic (scadem frecventa de esantionare), cu atat avem un semnal mai putin reprezentativ si confundabil cu alte semnale prin fenomenul de aliere (aliasing)





offset = 1
td1 = t[offset::d]
xtd1 = xt[offset::d]

plt.plot(t, xt, 'b', label = 'x(t)')
plt.plot(td0, xtd0, 'r', label = 'xtd0(t)')
plt.plot(td1, xtd1, 'g', label = 'xtd1(t)')

plt.legend()

# Din grafic observam faptul ca decimarea este invarianta in timp





start = -np.pi/2
stop = np.pi/2
n = 1000

x = np.linspace(start, stop, n)

plt.plot(x, x, 'b', label = 'f(x) = x')
plt.plot(x, np.sin(x), 'r', label = 'f(x) = sin(x)')

plt.legend()

# Da, pentru valori mici ale lui x, aproximarea sin(x) ~ x este foarte buna. Observam ca cele 2 curbe sunt foarte apropiate in intervalul [-pi/12, pi/12], aproximativ [-0.3, 0.3]
