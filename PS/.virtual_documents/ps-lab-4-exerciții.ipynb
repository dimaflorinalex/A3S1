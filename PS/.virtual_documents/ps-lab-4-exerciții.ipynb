


import numpy as np
import matplotlib.pyplot as plt

















A = 1
phi = 0

start = 0
stop = 0.03

fx = 300

fs = 1.2 * fx
Ts = 1 / fs

fy = fx + 1 * fs
fz = fx + 2 * fs

t = np.linspace(start, stop, 1000)
t_n = np.arange(start, stop + Ts, Ts)

x = lambda t : A * np.sin(2 * np.pi * fx * t + phi)
y = lambda t : A * np.sin(2 * np.pi * fy * t + phi)
z = lambda t : A * np.sin(2 * np.pi * fz * t + phi)

fig, axs = plt.subplots(3, figsize = (10, 8))

plt.subplots_adjust(hspace = 0.6)

axs[0].set_title('x(t)')
axs[0].set_xlabel('Timp [s]')
axs[0].set_ylabel('Amplitudine')
axs[0].grid(True)
axs[0].plot(t, x(t))
axs[0].stem(t_n, x(t_n))

axs[1].set_title('y(t)')
axs[1].set_xlabel('Timp [s]')
axs[1].set_ylabel('Amplitudine')
axs[1].grid(True)
axs[1].plot(t, y(t))
axs[1].stem(t_n, y(t_n))

axs[2].set_title('z(t)')
axs[2].set_xlabel('Timp [s]')
axs[2].set_ylabel('Amplitudine')
axs[2].grid(True)
axs[2].plot(t, z(t))
axs[2].stem(t_n, z(t_n))





A = 1
phi = 0

start = 0
stop = 0.03

fx = 300

fs = 1.2 * fx
Ts = 1 / fs

fy = fx + 1 * fs
fz = fx + 2 * fs

t = np.linspace(start, stop, 1000)

fss = 15 * fs
Tss = 1 / fss

t_n = np.arange(start, stop + Tss, Tss)

x = lambda t : A * np.sin(2 * np.pi * fx * t + phi)
y = lambda t : A * np.sin(2 * np.pi * fy * t + phi)
z = lambda t : A * np.sin(2 * np.pi * fz * t + phi)

fig, axs = plt.subplots(3, figsize = (10, 8))

plt.subplots_adjust(hspace = 0.6)

axs[0].set_title('x(t)')
axs[0].set_xlabel('Timp [s]')
axs[0].set_ylabel('Amplitudine')
axs[0].grid(True)
axs[0].plot(t, x(t))
axs[0].stem(t_n, x(t_n))

axs[1].set_title('y(t)')
axs[1].set_xlabel('Timp [s]')
axs[1].set_ylabel('Amplitudine')
axs[1].grid(True)
axs[1].plot(t, y(t))
axs[1].stem(t_n, y(t_n))

axs[2].set_title('z(t)')
axs[2].set_xlabel('Timp [s]')
axs[2].set_ylabel('Amplitudine')
axs[2].grid(True)
axs[2].plot(t, z(t))
axs[2].stem(t_n, z(t_n))
