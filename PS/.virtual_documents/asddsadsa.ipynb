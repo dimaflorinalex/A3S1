


import numpy as np
import matplotlib.pyplot as plt
import sklearn
import dictlearn
from sklearn.feature_extraction.image import extract_patches_2d
from matplotlib import image
from sklearn.preprocessing import normalize
from dictlearn import DictionaryLearning
from dictlearn import methods
from sklearn.feature_extraction.image import reconstruct_from_patches_2d


p = 8           # dimensiunea unui patch (numar de pixeli)
s = 6           # sparsitatea
N = 1000        # numarul total de patch-uri
n = 256         # numarul de atomi din dictionar
K = 50          # numarul de iteratii DL
sigma = 0.075   # deviatia standard a zgomotului








I = image.imread('barbara.png')
if I.dtype != 'float32':
    I = I / 255.0

plt.imshow(I, cmap='gray')
plt.title("Imagine originala")
plt.show()






sigma = 0.075
Inoisy = I + sigma * np.random.randn(I.shape[0], I.shape[1])

plt.imshow(Inoisy, cmap='gray')
plt.title("Imagine cu zgomot")
plt.show()






p = 8
Ynoisy = extract_patches_2d(Inoisy, (p, p))
print("Dimensiunea initiala a patch-urilor:", Ynoisy.shape)

Ynoisy = Ynoisy.reshape(Ynoisy.shape[0], -1)
print("Dimensiunea dupa vectorizare:", Ynoisy.shape)

Ynoisy = Ynoisy.T
media_patch = np.mean(Ynoisy, axis=0)
Ynoisy -= media_patch





N = 1000
indices = np.random.choice(Ynoisy.shape[1], N, replace=False)
Y = Ynoisy[:, indices]








n = 256
D0 = np.random.randn(p * p, n)
D0 = normalize(D0, axis=0, norm='max')





K = 50
dl = DictionaryLearning(
    n_components=n,
    max_iter=K,
    fit_algorithm='ksvd',
    n_nonzero_coefs=s,
    code_init=None,
    dict_init=D0,
    params=None,
    data_sklearn_compat=False
)
dl.fit(Y)
D = dl.D_









Xc, err = methods.omp(Ynoisy, D, n_nonzero_coefs=6)





Yc = D @ Xc
Yc += media_patch





Yc = Yc.T
Yc = Yc.reshape(-1, p, p)
Ic = reconstruct_from_patches_2d(Yc, I.shape)








plt.figure(figsize=(15, 5))
plt.subplot(1, 3, 1)
plt.imshow(I, cmap='gray')
plt.title("Imagine originala")

plt.subplot(1, 3, 2)
plt.imshow(Inoisy, cmap='gray')
plt.title("Imagine cu zgomot")

plt.subplot(1, 3, 3)
plt.imshow(Ic, cmap='gray')
plt.title("Imagine curatata")
plt.show()





def psnr(img1, img2):
    mse = np.mean((img1 - img2) ** 2)
    if mse == 0:
        return float('inf')
    max_pixel = 1.0
    return 20 * np.log10(max_pixel / np.sqrt(mse))

psnr_noisy = psnr(I, Inoisy)
psnr_cleaned = psnr(I, Ic)
print(f"PSNR (noisy vs original): {psnr_noisy:.2f}")
print(f"PSNR (cleaned vs original): {psnr_cleaned:.2f}")
