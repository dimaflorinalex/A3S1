


import numpy as np
import matplotlib.pyplot as plt








h = 2 # ore
fs = 1 / (h * 3600)

print("Frecventa de esantionare:", fs, "Hz")





T = 24 * 3600 # 24 ore * 3600s
f = 1 / T

print("Perioada semnalului:", T, "s")
print("Frecventa semnalului:", f, "Hz")

print("Esantionarea din subpunctul precedent este corecta in sensul teoremei Nyquist?:", fs >= 2 * f)

Tmax = 0.5 * T
print("Intervalul de perioada maxima la care trebuie masurata temperatura astfel incat sa indeplineasca criteriul de esantionare Nyquist: ", Tmax, "s")





t = np.linspace(0, 7, 1000)

A = 1
phi = np.pi / 2
x = lambda t : A * np.sin(2 * np.pi * f * (t * 3600 * 24) + phi)

Ts = 1 / fs
ts = np.arange(0, 7, Ts / 3600 / 24)

print(t)

plt.plot(t, x(t), 'b')
plt.stem(ts, x(ts), 'r')

# Zile:
# 0 = miercuri, 1 = joi, 2 = vineri, 3 = sambata, 4 = duminica, 5 = luni, 6 = marti
# Ziua x > 6 => x <=> x % 7
plt.xlabel('Timp [zile]')
plt.ylabel('Temperatura [grade Celsius]')
plt.grid(True)











Tss = 5 / 24
tss = np.arange(0, 7, Tss)

plt.plot(tss, x(tss), 'g')

# Zile:
# 0 = miercuri, 1 = joi, 2 = vineri, 3 = sambata, 4 = duminica, 5 = luni, 6 = marti
# Ziua x > 6 => x <=> x % 7
plt.xlabel('Timp [zile]')
plt.ylabel('Temperatura [grade Celsius]')
plt.grid(True)





plt.plot(t, x(t), 'b')
plt.stem(ts, x(ts), 'r')
plt.stem(tss, x(tss), 'g')

# Zile:
# 0 = miercuri, 1 = joi, 2 = vineri, 3 = sambata, 4 = duminica, 5 = luni, 6 = marti
# Ziua x > 6 => x <=> x % 7
plt.xlabel('Timp [zile]')
plt.ylabel('Temperatura [grade Celsius]')
plt.grid(True)





t = np.linspace(0, 0.3, 1000)

phi = 0
f = 10

maxim = 7
minim = 3
A = (maxim - minim) / 2
offset = minim + np.abs(A)

x = lambda t: A * np.sin(2 * np.pi * f * t + phi) + offset

plt.plot(t, x(t), 'b')

plt.xlabel('t [s]')
plt.ylabel('x(t)')
plt.grid(True)





fc = 90
B = 10

fsMax = lambda m : (2 * fc - B) / m
fsMin = lambda m : (2 * fc + B) / (m + 1)

print('m = 1:', fsMax(1), fsMin(1), ' | optim: ', )
print('m = 2:', fsMax(2), fsMin(2), ' | optim: ', )
print('m = 4:', fsMax(4), fsMin(4), ' | optim: ', )






