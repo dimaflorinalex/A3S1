


import numpy as np
import matplotlib.pyplot as plt








start = 0
step = 0.0005
stop = 0.03

t = np.arange(start, stop + step, step)

plt.xlabel('t [s]')
plt.ylabel('Amplitudine')
plt.title('Axa reala de timp')
plt.grid(True)
plt.stem(t, np.zeros_like(t))





x = lambda t: np.cos(520 * np.pi * t + np.pi / 3)
y = lambda t: np.cos(280 * np.pi * t - np.pi / 3)
z = lambda t: np.cos(120 * np.pi * t + np.pi / 3)

fig, axs = plt.subplots(3, figsize = (10, 8))

plt.subplots_adjust(hspace = 0.6)

axs[0].set_title('x(t)')
axs[0].set_xlabel('Timp (s)')
axs[0].set_ylabel('Amplitudine')
axs[0].grid(True)
axs[0].plot(t, x(t))

axs[1].set_title('y(t)')
axs[1].set_xlabel('Timp (s)')
axs[1].set_ylabel('Amplitudine')
axs[1].grid(True)
axs[1].plot(t, y(t))

axs[2].set_title('z(t)')
axs[2].set_xlabel('Timp (s)')
axs[2].set_ylabel('Amplitudine')
axs[2].grid(True)
axs[2].plot(t, z(t))





fs = 200

t_n = np.arange(start, stop, step)

fig, axs = plt.subplots(3, figsize = (10, 8))

plt.subplots_adjust(hspace = 0.6)

axs[0].set_title('x(t_n)')
axs[0].set_xlabel('Timp (s)')
axs[0].set_ylabel('Amplitudine')
axs[0].grid(True)
axs[0].stem(t_n, x(t_n))

axs[1].set_title('y(t_n)')
axs[1].set_xlabel('Timp (s)')
axs[1].set_ylabel('Amplitudine')
axs[1].grid(True)
axs[1].stem(t_n, y(t_n))

axs[2].set_title('z(t_n)')
axs[2].set_xlabel('Timp (s)')
axs[2].set_ylabel('Amplitudine')
axs[2].grid(True)
axs[2].stem(t_n, z(t_n))








f = 400

start = 0
n = 1600
fs = 500 * f
step = 1 / fs
stop = step * n

t = np.arange(start, stop, step)

x = lambda t : np.sin(2 * np.pi * f * t)

plt.xlabel('t [s]')
plt.ylabel('Amplitudine')
plt.title('x(t)')
plt.grid(True)
plt.plot(t, x(t))





f = 800

start = 0
fs = 0.14 * f
step = 1 / fs
stop = 3

t = np.arange(start, stop, step)

x = lambda t : np.sin(2 * np.pi * f * t)

plt.xlabel('t [s]')
plt.ylabel('Amplitudine')
plt.title('x(t)')
plt.grid(True)
plt.plot(t, x(t))





f = 240

start = 0
fs = 0.14 * f
step = 1 / fs
stop = 3

t = np.arange(start, stop, step)

x = lambda t : 2 * (f * t - np.floor(f * t + 0.5))

plt.xlabel('t [s]')
plt.ylabel('Amplitudine')
plt.title('x(t)')
plt.grid(True)
plt.plot(t, x(t))





f = 300

start = 0
fs = 0.145 * f
step = 1 / fs
stop = 3

t = np.arange(start, stop, step)

x = lambda t : np.sign(np.sin(2 * np.pi * f * t))

plt.xlabel('t [s]')
plt.ylabel('Amplitudine')
plt.title('x(t)')
plt.grid(True)
plt.plot(t, x(t))





x = 128
y = 128

I = np.random.rand(x, y)

plt.imshow(I)





x = 128
y = 128

I = np.ones([x, y])

I[0:64, 0:64] = 0
I[0:64, 64:128] = 85
I[64:128, 0:64] = 170
I[64:128, 64:128] = 255

plt.imshow(I)






